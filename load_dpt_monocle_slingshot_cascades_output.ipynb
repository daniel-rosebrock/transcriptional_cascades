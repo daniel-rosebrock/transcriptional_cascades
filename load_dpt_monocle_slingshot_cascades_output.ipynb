{
 "cells": [
  {
   "cell_type": "code",
   "execution_count": 1,
   "id": "8ec524af",
   "metadata": {},
   "outputs": [],
   "source": [
    "import scanpy as sc\n",
    "import matplotlib.pyplot as plt\n",
    "%matplotlib inline\n",
    "import numpy as np\n",
    "import pandas as pd\n",
    "import seaborn as sns\n",
    "import copy\n",
    "from scipy import sparse"
   ]
  },
  {
   "cell_type": "code",
   "execution_count": 2,
   "id": "8065233d",
   "metadata": {},
   "outputs": [],
   "source": [
    "import matplotlib\n",
    "matplotlib.use('Agg')\n",
    "from matplotlib import gridspec\n",
    "from matplotlib.colors import Normalize\n",
    "from matplotlib import cm\n",
    "matplotlib.rcParams['pdf.fonttype'] = 42\n",
    "matplotlib.rcParams['ps.fonttype'] = 42\n",
    "norm = matplotlib.colors.Normalize(vmin=0, vmax=20)\n",
    "\n",
    "import matplotlib.font_manager as font_manager\n",
    "font_dirs = ['/project/elkabetz_lab_data/tools/PythonFonts/', ]\n",
    "font_files = font_manager.findSystemFonts(fontpaths=font_dirs)\n",
    "for font_file in font_files:\n",
    "    font_manager.fontManager.addfont(font_file)\n",
    "matplotlib.rcParams['font.family'] = 'arial'\n",
    "import pickle as pkl"
   ]
  },
  {
   "cell_type": "code",
   "execution_count": 3,
   "id": "71dad4d6",
   "metadata": {},
   "outputs": [],
   "source": [
    "from lik_models import *\n",
    "from helper_funcs import *\n",
    "from plotting_funcs import *\n",
    "from mcmc_data import *"
   ]
  },
  {
   "cell_type": "code",
   "execution_count": 5,
   "id": "3787bdb2",
   "metadata": {},
   "outputs": [
    {
     "name": "stdout",
     "output_type": "stream",
     "text": [
      "Loading Count Matrix...\n",
      "Normalizing Count Matrix...\n"
     ]
    }
   ],
   "source": [
    "mcmc = mcmc_data(count_matrix_fn='/project/single_cell/Daniel/Transcriptional_Cascades/scripts/Transcriptional_Cascades/data/e13_5_mouse_forebrain_neuron_diff.2.slingshot_ordered.raw_count_matrix.tsv',\n",
    "                          pkl_dir='/project/single_cell/Daniel/Transcriptional_Cascades/scripts/Transcriptional_Cascades/outputs_full/e13_5_forebrain_dorsal_2_slingshot/',\n",
    "                          tfs_fn='/project/single_cell/Transcriptional_Cascades/data/mouse_transcription_factors_zhou_et_al.txt',\n",
    "                          name='e13.5 Mouse Cortical Neuron')"
   ]
  },
  {
   "cell_type": "code",
   "execution_count": 111,
   "id": "de8beaab",
   "metadata": {
    "scrolled": true
   },
   "outputs": [
    {
     "name": "stdout",
     "output_type": "stream",
     "text": [
      "Loading pkls...\n",
      "100\n",
      "200\n",
      "300\n",
      "400\n",
      "500\n",
      "600\n",
      "700\n",
      "800\n",
      "900\n",
      "1000\n",
      "1100\n",
      "1200\n",
      "1300\n",
      "1400\n",
      "1500\n",
      "1600\n",
      "1700\n",
      "1800\n",
      "1900\n",
      "2000\n",
      "2100\n",
      "2200\n",
      "2300\n",
      "2400\n",
      "2500\n",
      "2600\n",
      "2700\n",
      "2800\n",
      "2900\n",
      "3000\n",
      "3100\n",
      "3200\n",
      "3300\n",
      "3400\n",
      "3500\n",
      "3600\n",
      "3700\n",
      "3800\n",
      "3900\n",
      "4000\n",
      "4100\n",
      "4200\n",
      "4300\n",
      "4400\n",
      "4500\n",
      "4600\n",
      "4700\n",
      "4800\n",
      "4900\n",
      "5000\n",
      "5100\n",
      "5200\n",
      "5300\n",
      "5400\n",
      "5500\n",
      "5600\n",
      "5700\n",
      "5800\n",
      "5900\n",
      "6000\n",
      "6100\n",
      "6200\n",
      "6300\n",
      "6400\n",
      "6500\n",
      "6600\n",
      "6700\n",
      "6800\n",
      "6900\n",
      "7000\n",
      "7100\n",
      "7200\n",
      "7300\n",
      "7400\n",
      "7500\n",
      "7600\n",
      "7700\n",
      "7800\n",
      "7900\n",
      "8000\n",
      "8100\n",
      "8200\n",
      "8300\n",
      "8400\n",
      "8500\n",
      "8600\n",
      "8700\n",
      "8800\n",
      "8900\n",
      "9000\n",
      "9100\n",
      "9200\n",
      "9300\n",
      "9400\n",
      "9500\n"
     ]
    }
   ],
   "source": [
    "#load in all pkls\n",
    "mcmc.load_pkls(sub_tfs=False)\n",
    "\n",
    "#get best fitting genes\n",
    "mcmc.get_top_genes(n_top=50,sub_tf=False)"
   ]
  },
  {
   "cell_type": "code",
   "execution_count": 8,
   "id": "6b1f3af2",
   "metadata": {},
   "outputs": [
    {
     "name": "stdout",
     "output_type": "stream",
     "text": [
      "sig down\n",
      "sig up\n",
      "transient up\n",
      "transient down\n"
     ]
    }
   ],
   "source": [
    "fit_types = {}\n",
    "non_unif_fits = {}\n",
    "for gene in mcmc.inflection_points:\n",
    "    if mcmc.best_fits[gene] != 'uniform':\n",
    "        non_unif_fits[gene] = mcmc.inflection_points[gene]\n",
    "    else:\n",
    "        fit_types[gene] = \"uniform\"\n",
    "for type_ in ['sig down','sig up','transient up','transient down']:\n",
    "    print(type_)\n",
    "    for gene in [y[0] for y in sorted(non_unif_fits.items(),key = lambda x:get_mode(x[1],n_bins=50))]:\n",
    "        if type_ is not None:\n",
    "            keep = False\n",
    "            if type_ == 'sig up':\n",
    "                if mcmc.best_fits[gene] == 'sigmoidal':\n",
    "                    if np.mean(mcmc.inflection_point_derivs[gene]) > 0:\n",
    "                        fit_types[gene] = 'sig up'\n",
    "                elif mcmc.best_fits[gene] == 'double sigmoidal':\n",
    "                    if (np.mean(mcmc.inflection_point_derivs[gene]) > 0) & (np.mean(mcmc.inflection_point_derivs_2[gene]) > 0):\n",
    "                        fit_types[gene] = 'sig up'\n",
    "            elif type_ == 'sig down':\n",
    "                if mcmc.best_fits[gene] == 'sigmoidal':\n",
    "                    if np.mean(mcmc.inflection_point_derivs[gene]) < 0:\n",
    "                        fit_types[gene] = 'sig down'\n",
    "                elif mcmc.best_fits[gene] == 'double sigmoidal':\n",
    "                    if (np.mean(mcmc.inflection_point_derivs[gene]) < 0) & (np.mean(mcmc.inflection_point_derivs_2[gene]) < 0):\n",
    "                        fit_types[gene] = 'sig down'\n",
    "            elif type_ == 'transient up':\n",
    "                if mcmc.best_fits[gene] == 'gauss':\n",
    "                    fit_types[gene] = 'transient up'\n",
    "                if mcmc.best_fits[gene] == 'double sigmoidal':\n",
    "                    if (np.mean(mcmc.inflection_point_derivs[gene]) > 0) & (np.mean(mcmc.inflection_point_derivs_2[gene]) < 0):\n",
    "                        fit_types[gene] = 'transient up'\n",
    "            elif type_ == 'transient down':\n",
    "                if mcmc.best_fits[gene] == 'double sigmoidal':\n",
    "                    if (np.mean(mcmc.inflection_point_derivs[gene]) < 0) & (np.mean(mcmc.inflection_point_derivs_2[gene]) > 0):\n",
    "                        fit_types[gene] = 'transient down'"
   ]
  },
  {
   "cell_type": "code",
   "execution_count": 9,
   "id": "9f9fc685",
   "metadata": {},
   "outputs": [],
   "source": [
    "fit_types_slingshot = fit_types\n",
    "mcmc_slingshot = mcmc"
   ]
  },
  {
   "cell_type": "code",
   "execution_count": 10,
   "id": "fb432d69",
   "metadata": {},
   "outputs": [
    {
     "name": "stdout",
     "output_type": "stream",
     "text": [
      "Loading Count Matrix...\n",
      "Normalizing Count Matrix...\n"
     ]
    }
   ],
   "source": [
    "mcmc = mcmc_data(count_matrix_fn='/project/single_cell/Daniel/Transcriptional_Cascades/scripts/Transcriptional_Cascades/data/e13_5_mouse_forebrain_neuron_diff.2.monocle_ordered.raw_count_matrix.tsv',\n",
    "                          pkl_dir='/project/single_cell/Daniel/Transcriptional_Cascades/scripts/Transcriptional_Cascades/outputs_full/e13_5_forebrain_dorsal_2_monocle/',\n",
    "                          tfs_fn='/project/single_cell/Transcriptional_Cascades/data/mouse_transcription_factors_zhou_et_al.txt',\n",
    "                          name='e13.5 Mouse Cortical Neuron')"
   ]
  },
  {
   "cell_type": "code",
   "execution_count": 11,
   "id": "aa1cbaf8",
   "metadata": {},
   "outputs": [
    {
     "name": "stdout",
     "output_type": "stream",
     "text": [
      "Loading pkls...\n",
      "100\n",
      "200\n",
      "300\n",
      "400\n",
      "500\n",
      "600\n",
      "700\n",
      "800\n",
      "900\n",
      "1000\n",
      "1100\n",
      "1200\n",
      "1300\n",
      "1400\n",
      "1500\n",
      "1600\n",
      "1700\n",
      "1800\n",
      "1900\n",
      "2000\n",
      "2100\n",
      "2200\n",
      "2300\n",
      "2400\n",
      "2500\n",
      "2600\n",
      "2700\n",
      "2800\n",
      "2900\n",
      "3000\n",
      "3100\n",
      "3200\n",
      "3300\n",
      "3400\n",
      "3500\n",
      "3600\n",
      "3700\n",
      "3800\n",
      "3900\n",
      "4000\n",
      "4100\n",
      "4200\n",
      "4300\n",
      "4400\n",
      "4500\n",
      "4600\n",
      "4700\n",
      "4800\n",
      "4900\n",
      "5000\n",
      "5100\n",
      "5200\n",
      "5300\n",
      "5400\n",
      "5500\n",
      "5600\n",
      "5700\n",
      "5800\n",
      "5900\n",
      "6000\n",
      "6100\n",
      "6200\n",
      "6300\n",
      "6400\n",
      "6500\n",
      "6600\n",
      "6700\n",
      "6800\n",
      "6900\n",
      "7000\n",
      "7100\n",
      "7200\n",
      "7300\n",
      "7400\n",
      "7500\n",
      "7600\n",
      "7700\n",
      "7800\n",
      "7900\n",
      "8000\n",
      "8100\n",
      "8200\n",
      "8300\n",
      "8400\n",
      "8500\n",
      "8600\n",
      "8700\n",
      "8800\n",
      "8900\n",
      "9000\n",
      "9100\n",
      "9200\n",
      "9300\n",
      "9400\n",
      "9500\n"
     ]
    }
   ],
   "source": [
    "#load in all pkls\n",
    "mcmc.load_pkls(sub_tfs=False)\n",
    "\n",
    "#get best fitting genes\n",
    "mcmc.get_top_genes(n_top=50,sub_tf=False)"
   ]
  },
  {
   "cell_type": "code",
   "execution_count": 12,
   "id": "b4c2098c",
   "metadata": {},
   "outputs": [
    {
     "name": "stdout",
     "output_type": "stream",
     "text": [
      "sig down\n",
      "sig up\n",
      "transient up\n",
      "transient down\n"
     ]
    }
   ],
   "source": [
    "fit_types = {}\n",
    "non_unif_fits = {}\n",
    "for gene in mcmc.inflection_points:\n",
    "    if mcmc.best_fits[gene] != 'uniform':\n",
    "        non_unif_fits[gene] = mcmc.inflection_points[gene]\n",
    "    else:\n",
    "        fit_types[gene] = \"uniform\"\n",
    "for type_ in ['sig down','sig up','transient up','transient down']:\n",
    "    print(type_)\n",
    "    for gene in [y[0] for y in sorted(non_unif_fits.items(),key = lambda x:get_mode(x[1],n_bins=50))]:\n",
    "        if type_ is not None:\n",
    "            keep = False\n",
    "            if type_ == 'sig up':\n",
    "                if mcmc.best_fits[gene] == 'sigmoidal':\n",
    "                    if np.mean(mcmc.inflection_point_derivs[gene]) > 0:\n",
    "                        fit_types[gene] = 'sig up'\n",
    "                elif mcmc.best_fits[gene] == 'double sigmoidal':\n",
    "                    if (np.mean(mcmc.inflection_point_derivs[gene]) > 0) & (np.mean(mcmc.inflection_point_derivs_2[gene]) > 0):\n",
    "                        fit_types[gene] = 'sig up'\n",
    "            elif type_ == 'sig down':\n",
    "                if mcmc.best_fits[gene] == 'sigmoidal':\n",
    "                    if np.mean(mcmc.inflection_point_derivs[gene]) < 0:\n",
    "                        fit_types[gene] = 'sig down'\n",
    "                elif mcmc.best_fits[gene] == 'double sigmoidal':\n",
    "                    if (np.mean(mcmc.inflection_point_derivs[gene]) < 0) & (np.mean(mcmc.inflection_point_derivs_2[gene]) < 0):\n",
    "                        fit_types[gene] = 'sig down'\n",
    "            elif type_ == 'transient up':\n",
    "                if mcmc.best_fits[gene] == 'gauss':\n",
    "                    fit_types[gene] = 'transient up'\n",
    "                if mcmc.best_fits[gene] == 'double sigmoidal':\n",
    "                    if (np.mean(mcmc.inflection_point_derivs[gene]) > 0) & (np.mean(mcmc.inflection_point_derivs_2[gene]) < 0):\n",
    "                        fit_types[gene] = 'transient up'\n",
    "            elif type_ == 'transient down':\n",
    "                if mcmc.best_fits[gene] == 'double sigmoidal':\n",
    "                    if (np.mean(mcmc.inflection_point_derivs[gene]) < 0) & (np.mean(mcmc.inflection_point_derivs_2[gene]) > 0):\n",
    "                        fit_types[gene] = 'transient down'"
   ]
  },
  {
   "cell_type": "code",
   "execution_count": 13,
   "id": "d712f11e",
   "metadata": {},
   "outputs": [],
   "source": [
    "fit_types_monocle = fit_types\n",
    "mcmc_monocle = mcmc"
   ]
  },
  {
   "cell_type": "code",
   "execution_count": 14,
   "id": "478d94a6",
   "metadata": {},
   "outputs": [
    {
     "name": "stdout",
     "output_type": "stream",
     "text": [
      "Loading Count Matrix...\n",
      "Normalizing Count Matrix...\n"
     ]
    }
   ],
   "source": [
    "mcmc = mcmc_data(count_matrix_fn='/project/single_cell/Transcriptional_Cascades/data/e13_5_mouse_forebrain_neuron_diff.2.raw_count_matrix.tsv',\n",
    "                          pkl_dir='/project/single_cell/Daniel/Transcriptional_Cascades/scripts/Transcriptional_Cascades/outputs_full/e13_5_forebrain_dorsal_2/',\n",
    "                          tfs_fn='/project/single_cell/Transcriptional_Cascades/data/mouse_transcription_factors_zhou_et_al.txt',\n",
    "                          name='e13.5 Mouse Cortical Neuron')"
   ]
  },
  {
   "cell_type": "code",
   "execution_count": 15,
   "id": "cc34499e",
   "metadata": {},
   "outputs": [
    {
     "name": "stdout",
     "output_type": "stream",
     "text": [
      "Loading pkls...\n",
      "100\n",
      "200\n",
      "300\n",
      "400\n",
      "500\n",
      "600\n",
      "700\n",
      "800\n",
      "900\n",
      "1000\n",
      "1100\n",
      "1200\n",
      "1300\n",
      "1400\n",
      "1500\n",
      "1600\n",
      "1700\n",
      "1800\n",
      "1900\n",
      "2000\n",
      "2100\n",
      "2200\n",
      "2300\n",
      "2400\n",
      "2500\n",
      "2600\n",
      "2700\n",
      "2800\n",
      "2900\n",
      "3000\n",
      "3100\n",
      "3200\n",
      "3300\n",
      "3400\n",
      "3500\n",
      "3600\n",
      "3700\n",
      "3800\n",
      "3900\n",
      "4000\n",
      "4100\n",
      "4200\n",
      "4300\n",
      "4400\n",
      "4500\n",
      "4600\n",
      "4700\n",
      "4800\n",
      "4900\n",
      "5000\n",
      "5100\n",
      "5200\n",
      "5300\n",
      "5400\n",
      "5500\n",
      "5600\n",
      "5700\n",
      "5800\n",
      "5900\n",
      "6000\n",
      "6100\n",
      "6200\n",
      "6300\n",
      "6400\n",
      "6500\n",
      "6600\n",
      "6700\n",
      "6800\n",
      "6900\n",
      "7000\n",
      "7100\n",
      "7200\n",
      "7300\n",
      "7400\n",
      "7500\n",
      "7600\n",
      "7700\n",
      "7800\n",
      "7900\n",
      "8000\n",
      "8100\n",
      "8200\n",
      "8300\n",
      "8400\n",
      "8500\n",
      "8600\n",
      "8700\n",
      "8800\n",
      "8900\n",
      "9000\n",
      "9100\n",
      "9200\n",
      "9300\n",
      "9400\n",
      "9500\n"
     ]
    }
   ],
   "source": [
    "#load in all pkls\n",
    "mcmc.load_pkls(sub_tfs=False)\n",
    "\n",
    "#get best fitting genes\n",
    "mcmc.get_top_genes(n_top=50,sub_tf=False)"
   ]
  },
  {
   "cell_type": "code",
   "execution_count": 16,
   "id": "ef31bacc",
   "metadata": {},
   "outputs": [
    {
     "name": "stdout",
     "output_type": "stream",
     "text": [
      "sig down\n",
      "sig up\n",
      "transient up\n",
      "transient down\n"
     ]
    }
   ],
   "source": [
    "fit_types = {}\n",
    "non_unif_fits = {}\n",
    "for gene in mcmc.inflection_points:\n",
    "    if mcmc.best_fits[gene] != 'uniform':\n",
    "        non_unif_fits[gene] = mcmc.inflection_points[gene]\n",
    "    else:\n",
    "        fit_types[gene] = \"uniform\"\n",
    "for type_ in ['sig down','sig up','transient up','transient down']:\n",
    "    print(type_)\n",
    "    for gene in [y[0] for y in sorted(non_unif_fits.items(),key = lambda x:get_mode(x[1],n_bins=50))]:\n",
    "        if type_ is not None:\n",
    "            keep = False\n",
    "            if type_ == 'sig up':\n",
    "                if mcmc.best_fits[gene] == 'sigmoidal':\n",
    "                    if np.mean(mcmc.inflection_point_derivs[gene]) > 0:\n",
    "                        fit_types[gene] = 'sig up'\n",
    "                elif mcmc.best_fits[gene] == 'double sigmoidal':\n",
    "                    if (np.mean(mcmc.inflection_point_derivs[gene]) > 0) & (np.mean(mcmc.inflection_point_derivs_2[gene]) > 0):\n",
    "                        fit_types[gene] = 'sig up'\n",
    "            elif type_ == 'sig down':\n",
    "                if mcmc.best_fits[gene] == 'sigmoidal':\n",
    "                    if np.mean(mcmc.inflection_point_derivs[gene]) < 0:\n",
    "                        fit_types[gene] = 'sig down'\n",
    "                elif mcmc.best_fits[gene] == 'double sigmoidal':\n",
    "                    if (np.mean(mcmc.inflection_point_derivs[gene]) < 0) & (np.mean(mcmc.inflection_point_derivs_2[gene]) < 0):\n",
    "                        fit_types[gene] = 'sig down'\n",
    "            elif type_ == 'transient up':\n",
    "                if mcmc.best_fits[gene] == 'gauss':\n",
    "                    fit_types[gene] = 'transient up'\n",
    "                if mcmc.best_fits[gene] == 'double sigmoidal':\n",
    "                    if (np.mean(mcmc.inflection_point_derivs[gene]) > 0) & (np.mean(mcmc.inflection_point_derivs_2[gene]) < 0):\n",
    "                        fit_types[gene] = 'transient up'\n",
    "            elif type_ == 'transient down':\n",
    "                if mcmc.best_fits[gene] == 'double sigmoidal':\n",
    "                    if (np.mean(mcmc.inflection_point_derivs[gene]) < 0) & (np.mean(mcmc.inflection_point_derivs_2[gene]) > 0):\n",
    "                        fit_types[gene] = 'transient down'"
   ]
  },
  {
   "cell_type": "code",
   "execution_count": 17,
   "id": "a4943b56",
   "metadata": {},
   "outputs": [],
   "source": [
    "fit_types_dpt = fit_types\n",
    "mcmc_dpt = mcmc"
   ]
  },
  {
   "cell_type": "code",
   "execution_count": null,
   "id": "97305b82",
   "metadata": {},
   "outputs": [],
   "source": [
    "fit_types_dpt"
   ]
  },
  {
   "cell_type": "code",
   "execution_count": 26,
   "id": "7d4a6f2e",
   "metadata": {},
   "outputs": [
    {
     "data": {
      "text/plain": [
       "707"
      ]
     },
     "execution_count": 26,
     "metadata": {},
     "output_type": "execute_result"
    }
   ],
   "source": [
    "len([x for x in fit_types_monocle.values() if x != \"uniform\"])"
   ]
  },
  {
   "cell_type": "code",
   "execution_count": 27,
   "id": "04e1de7e",
   "metadata": {},
   "outputs": [
    {
     "data": {
      "text/plain": [
       "740"
      ]
     },
     "execution_count": 27,
     "metadata": {},
     "output_type": "execute_result"
    }
   ],
   "source": [
    "len([x for x in fit_types_slingshot.values() if x != \"uniform\"])"
   ]
  },
  {
   "cell_type": "code",
   "execution_count": 28,
   "id": "d9493487",
   "metadata": {},
   "outputs": [
    {
     "data": {
      "text/plain": [
       "722"
      ]
     },
     "execution_count": 28,
     "metadata": {},
     "output_type": "execute_result"
    }
   ],
   "source": [
    "len([x for x in fit_types_dpt.values() if x != \"uniform\"])"
   ]
  },
  {
   "cell_type": "code",
   "execution_count": 33,
   "id": "5f454a38",
   "metadata": {},
   "outputs": [
    {
     "data": {
      "text/plain": [
       "96"
      ]
     },
     "execution_count": 33,
     "metadata": {},
     "output_type": "execute_result"
    }
   ],
   "source": [
    "len([x for x in fit_types_dpt.items() if x[1] == \"transient up\"])"
   ]
  },
  {
   "cell_type": "code",
   "execution_count": 41,
   "id": "94592c8c",
   "metadata": {},
   "outputs": [
    {
     "data": {
      "text/plain": [
       "75"
      ]
     },
     "execution_count": 41,
     "metadata": {},
     "output_type": "execute_result"
    }
   ],
   "source": [
    "len(set([x[0] for x in fit_types_dpt.items() if x[1] == \"transient up\"]).intersection(set([x[0] for x in fit_types_monocle.items() if x[1] == \"transient up\"])).intersection(set([x[0] for x in fit_types_slingshot.items() if x[1] == \"transient up\"])))"
   ]
  },
  {
   "cell_type": "code",
   "execution_count": 43,
   "id": "cd19aca6",
   "metadata": {},
   "outputs": [
    {
     "data": {
      "text/plain": [
       "228"
      ]
     },
     "execution_count": 43,
     "metadata": {},
     "output_type": "execute_result"
    }
   ],
   "source": [
    "len(set([x[0] for x in fit_types_dpt.items() if x[1] == \"sig up\"]).intersection(set([x[0] for x in fit_types_monocle.items() if x[1] == \"sig up\"])).intersection(set([x[0] for x in fit_types_slingshot.items() if x[1] == \"sig up\"])))"
   ]
  },
  {
   "cell_type": "code",
   "execution_count": 49,
   "id": "40b9ef29",
   "metadata": {},
   "outputs": [],
   "source": [
    "from matplotlib_venn import venn3,venn3_circles "
   ]
  },
  {
   "cell_type": "code",
   "execution_count": 53,
   "id": "ec04a903",
   "metadata": {},
   "outputs": [],
   "source": [
    "%matplotlib inline"
   ]
  },
  {
   "cell_type": "code",
   "execution_count": null,
   "id": "101b4100",
   "metadata": {},
   "outputs": [],
   "source": []
  },
  {
   "cell_type": "code",
   "execution_count": null,
   "id": "f51998c0",
   "metadata": {},
   "outputs": [],
   "source": [
    "venn_plot = venn3(subsets,(\"Monocle3\",\"TradeSeq\",\"\\nThis Paper\"),\n",
    "                  set_colors=(sns.color_palette('Spectral')[0],sns.color_palette('Spectral')[5],sns.color_palette('Spectral')[4]), \n",
    "                  alpha=0.7)\n",
    "for text in venn_plot.set_labels:\n",
    "    text.set_fontsize(16)\n",
    "for x in range(len(venn_plot.subset_labels)):\n",
    "    if venn_plot.subset_labels[x] is not None:\n",
    "        venn_plot.subset_labels[x].set_fontsize(16)\n",
    "\n",
    "venn_plot.get_label_by_id('100').set_text(str(monocle_specific))\n",
    "venn_plot.get_label_by_id('110').set_text(str(shared_monocle_tradeseq))\n",
    "venn_plot.get_label_by_id('010').set_text(str(tradeseq_specific))\n",
    "venn_plot.get_label_by_id('101').set_text(str(shared_monocle_ourmethod))\n",
    "venn_plot.get_label_by_id('111').set_text(\"\\n\\n\"+str(shared_all))\n",
    "venn_plot.get_label_by_id('011').set_text(str(shared_tradeseq_ourmethod))\n",
    "venn_plot.get_label_by_id('001').set_text(str(our_method_specific))\n"
   ]
  },
  {
   "cell_type": "code",
   "execution_count": null,
   "id": "881900f0",
   "metadata": {},
   "outputs": [],
   "source": []
  },
  {
   "cell_type": "code",
   "execution_count": null,
   "id": "1f946973",
   "metadata": {},
   "outputs": [],
   "source": []
  },
  {
   "cell_type": "code",
   "execution_count": 110,
   "id": "9cdc4050",
   "metadata": {},
   "outputs": [
    {
     "name": "stdout",
     "output_type": "stream",
     "text": [
      "(1, 10, 0, 17, 8, 20, 75)\n",
      "(4, 1, 0, 2, 6, 3, 19)\n",
      "(15, 13, 7, 11, 9, 11, 228)\n",
      "(11, 24, 12, 9, 6, 27, 289)\n"
     ]
    },
    {
     "data": {
      "image/png": "[encoded data removed]",
      "text/plain": [
       "<Figure size 432x432 with 1 Axes>"
      ]
     },
     "metadata": {},
     "output_type": "display_data"
    },
    {
     "data": {
      "image/png": "[encoded data removed]",
      "text/plain": [
       "<Figure size 432x432 with 1 Axes>"
      ]
     },
     "metadata": {},
     "output_type": "display_data"
    },
    {
     "data": {
      "image/png": "[encoded data removed]",
      "text/plain": [
       "<Figure size 432x432 with 1 Axes>"
      ]
     },
     "metadata": {},
     "output_type": "display_data"
    },
    {
     "data": {
      "image/png": "[encoded data removed]",
      "text/plain": [
       "<Figure size 432x432 with 1 Axes>"
      ]
     },
     "metadata": {},
     "output_type": "display_data"
    }
   ],
   "source": [
    "title_dict = {'transient up':'Transient up','transient down':'Transient down',\n",
    "              'sig up':'State-switch low to high',\n",
    "              'sig down':'State-switch high to low'}\n",
    "\n",
    "for sig_type in ['transient up','transient down','sig up','sig down']:\n",
    "    \n",
    "    dpt_genes = [x[0] for x in fit_types_dpt.items() if x[1] == sig_type]\n",
    "    monocle_genes = [x[0] for x in fit_types_monocle.items() if x[1] == sig_type]\n",
    "    slingshot_genes = [x[0] for x in fit_types_slingshot.items() if x[1] == sig_type]\n",
    "    dpt_specific = len(set(dpt_genes)-set(monocle_genes)-set(slingshot_genes))\n",
    "    monocle_specific = len(set(monocle_genes)-set(dpt_genes)-set(slingshot_genes))\n",
    "    shared_dpt_monocle = len(set(dpt_genes).intersection(monocle_genes)-set(slingshot_genes))\n",
    "    slingshot_specific = len(set(slingshot_genes)-set(monocle_genes)-set(dpt_genes))\n",
    "    shared_monocle_slingshot = len(set(slingshot_genes).intersection(monocle_genes)-set(dpt_genes))\n",
    "    shared_dpt_slingshot = len(set(slingshot_genes).intersection(dpt_genes)-set(monocle_genes))\n",
    "    shared_all = len(set(dpt_genes).intersection(slingshot_genes).intersection(set(monocle_genes)))\n",
    "    \n",
    "    print((dpt_specific, monocle_specific, shared_dpt_monocle, \n",
    "                 slingshot_specific,shared_monocle_slingshot,shared_dpt_slingshot,\n",
    "                 shared_all))\n",
    "    \n",
    "    # depict venn diagram \n",
    "    plt.figure(figsize=(6,6))\n",
    "    subsets = (dpt_specific, monocle_specific, shared_dpt_monocle, \n",
    "           slingshot_specific,shared_monocle_slingshot,shared_dpt_slingshot,\n",
    "           shared_all)\n",
    "    \n",
    "    venn_plot = venn3(subsets,(\"DPT\",\"Monocle 3\",\"Slingshot\"),\n",
    "                      set_colors=(sns.color_palette('Spectral')[0],sns.color_palette('Spectral')[5],sns.color_palette('Spectral')[4]), \n",
    "                      alpha=0.7)\n",
    "    \n",
    "    for text in venn_plot.set_labels:\n",
    "        text.set_fontsize(16)\n",
    "    for x in range(len(venn_plot.subset_labels)):\n",
    "        if venn_plot.subset_labels[x] is not None:\n",
    "            venn_plot.subset_labels[x].set_fontsize(16)\n",
    "\n",
    "    venn_plot.get_label_by_id('010').set_text(str(monocle_specific))\n",
    "    if sig_type == 'transient up':\n",
    "        venn_plot.get_label_by_id('101').set_text(str(shared_dpt_slingshot)+\"    \")\n",
    "        venn_plot.get_label_by_id('111').set_text(str(shared_all)+\"         \")\n",
    "        venn_plot.get_label_by_id('011').set_text(\"            \"+str(shared_monocle_slingshot))\n",
    "        venn_plot.get_label_by_id('001').set_text(\"\\n\\n\"+str(slingshot_specific))\n",
    "    elif sig_type == 'transient down':\n",
    "        venn_plot.get_label_by_id('101').set_text(str(shared_dpt_slingshot)+\"       \")\n",
    "        venn_plot.get_label_by_id('111').set_text(\"         \"+str(shared_all))\n",
    "        venn_plot.get_label_by_id('011').set_text(\"      \"+str(shared_monocle_slingshot))\n",
    "    elif sig_type == 'sig up':\n",
    "        venn_plot.get_label_by_id('101').set_text(str(shared_dpt_slingshot)+\"     \")\n",
    "        venn_plot.get_label_by_id('011').set_text(\"      \"+str(shared_monocle_slingshot))\n",
    "        venn_plot.get_label_by_id('001').set_text(\"\\n\"+str(slingshot_specific))\n",
    "        venn_plot.get_label_by_id('010').set_text(\"   \"+str(monocle_specific))\n",
    "        venn_plot.get_label_by_id('100').set_text(str(dpt_specific)+\"    \")\n",
    "        venn_plot.get_label_by_id('110').set_text(str(shared_dpt_monocle)+\"\\n\")\n",
    "    elif sig_type == 'sig down':\n",
    "        venn_plot.get_label_by_id('101').set_text(str(shared_dpt_slingshot)+\"  \")\n",
    "        venn_plot.get_label_by_id('001').set_text(\"\\n\"+str(slingshot_specific))\n",
    "        venn_plot.get_label_by_id('010').set_text(\"      \"+str(monocle_specific))\n",
    "        venn_plot.get_label_by_id('100').set_text(str(dpt_specific)+\"  \")\n",
    "        venn_plot.get_label_by_id('110').set_text(str(shared_dpt_monocle)+\"\\n\")\n",
    "        venn_plot.get_label_by_id('011').set_text(\"         \"+str(shared_monocle_slingshot))\n",
    "    else:\n",
    "        venn_plot.get_label_by_id('101').set_text(str(shared_dpt_slingshot))\n",
    "        venn_plot.get_label_by_id('111').set_text(str(shared_all))\n",
    "        venn_plot.get_label_by_id('011').set_text(str(shared_monocle_slingshot))\n",
    "        venn_plot.get_label_by_id('001').set_text(str(slingshot_specific))\n",
    "        venn_plot.get_label_by_id('010').set_text(str(monocle_specific))\n",
    "        venn_plot.get_label_by_id('100').set_text(str(dpt_specific))\n",
    "        venn_plot.get_label_by_id('110').set_text(str(shared_dpt_monocle))\n",
    "\n",
    "    # add outline \n",
    "    venn3_circles(subsets,linewidth=0.5)\n",
    "    \n",
    "    plt.title(title_dict[sig_type],fontsize=18)\n",
    "    plt.savefig('/project/single_cell/Transcriptional_Cascades/Revision/figures/venn_diagram_monocle_slingshot_dpt.'+sig_type+'.pdf',bbox_inches='tight')"
   ]
  },
  {
   "cell_type": "code",
   "execution_count": null,
   "id": "0cc447c3",
   "metadata": {},
   "outputs": [],
   "source": []
  },
  {
   "cell_type": "code",
   "execution_count": null,
   "id": "40e2f7e1",
   "metadata": {},
   "outputs": [],
   "source": [
    "# depict venn diagram \n",
    "plt.figure(figsize=(7,7))\n",
    "subsets = (monocle_specific, tradeseq_specific, 1800, \n",
    "       50,shared_monocle_ourmethod,shared_tradeseq_ourmethod,\n",
    "       shared_all)\n",
    "\n",
    "venn_plot = venn3(subsets,(\"Monocle3\",\"TradeSeq\",\"\\nThis Paper\"),\n",
    "                  set_colors=(sns.color_palette('Spectral')[0],sns.color_palette('Spectral')[5],sns.color_palette('Spectral')[4]), \n",
    "                  alpha=0.7)\n",
    "for text in venn_plot.set_labels:\n",
    "    text.set_fontsize(16)\n",
    "for x in range(len(venn_plot.subset_labels)):\n",
    "    if venn_plot.subset_labels[x] is not None:\n",
    "        venn_plot.subset_labels[x].set_fontsize(16)\n",
    "\n",
    "venn_plot.get_label_by_id('100').set_text(str(monocle_specific))\n",
    "venn_plot.get_label_by_id('110').set_text(str(shared_monocle_tradeseq))\n",
    "venn_plot.get_label_by_id('010').set_text(str(tradeseq_specific))\n",
    "venn_plot.get_label_by_id('101').set_text(str(shared_monocle_ourmethod))\n",
    "venn_plot.get_label_by_id('111').set_text(\"\\n\\n\"+str(shared_all))\n",
    "venn_plot.get_label_by_id('011').set_text(str(shared_tradeseq_ourmethod))\n",
    "venn_plot.get_label_by_id('001').set_text(str(our_method_specific))\n",
    "\n",
    "# add outline \n",
    "venn3_circles(subsets,linewidth=0.5)  \n",
    "\n",
    "plt.savefig('/project/single_cell/Transcriptional_Cascades/Revision/figures/venn_diagram_monocle_tradeseq.pdf',bbox_inches='tight')\n",
    "plt.show()"
   ]
  },
  {
   "cell_type": "code",
   "execution_count": null,
   "id": "c2b84de3",
   "metadata": {},
   "outputs": [],
   "source": []
  },
  {
   "cell_type": "code",
   "execution_count": null,
   "id": "6cc684cb",
   "metadata": {},
   "outputs": [],
   "source": []
  },
  {
   "cell_type": "code",
   "execution_count": null,
   "id": "b604bb0a",
   "metadata": {},
   "outputs": [],
   "source": []
  },
  {
   "cell_type": "code",
   "execution_count": null,
   "id": "f544b397",
   "metadata": {},
   "outputs": [],
   "source": []
  },
  {
   "cell_type": "code",
   "execution_count": null,
   "id": "fd784e16",
   "metadata": {},
   "outputs": [],
   "source": []
  }
 ],
 "metadata": {
  "kernelspec": {
   "display_name": "Python 3 (ipykernel)",
   "language": "python",
   "name": "python3"
  },
  "language_info": {
   "codemirror_mode": {
    "name": "ipython",
    "version": 3
   },
   "file_extension": ".py",
   "mimetype": "text/x-python",
   "name": "python",
   "nbconvert_exporter": "python",
   "pygments_lexer": "ipython3",
   "version": "3.9.7"
  }
 },
 "nbformat": 4,
 "nbformat_minor": 5
}
